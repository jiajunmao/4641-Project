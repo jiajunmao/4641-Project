{
 "cells": [
  {
   "cell_type": "code",
   "execution_count": 71,
   "metadata": {
    "tags": []
   },
   "outputs": [],
   "source": [
    "import numpy as np\n",
    "import matplotlib as plt\n",
    "from itertools import permutations\n",
    "\n",
    "from keras.preprocessing.image import load_img, img_to_array\n",
    "import os\n",
    "\n",
    "import xml.etree.ElementTree as ElementTree\n",
    "\n",
    "from PIL import Image"
   ]
  },
  {
   "cell_type": "code",
   "execution_count": 72,
   "metadata": {},
   "outputs": [],
   "source": [
    "class Bbox:\n",
    "    def __init__(self, xmin, ymin, xmax, ymax):\n",
    "        self.xmin = xmin\n",
    "        self.ymin = ymin\n",
    "        self.xmax = xmax\n",
    "        self.ymax = ymax\n"
   ]
  },
  {
   "cell_type": "code",
   "execution_count": 73,
   "metadata": {
    "tags": []
   },
   "outputs": [],
   "source": [
    "def generate_anchor(base_width=16, base_height=16, anchor_ratios=[0.5, 1, 2], anchor_scales=[1, 2, 4, 6]):\n",
    "    base_anchor = np.array([base_width, base_height])\n",
    "    \n",
    "    ratio_permute = np.array(list(permutations(anchor_ratios, 2))) * base_width\n",
    "    base_ratio_anchor = np.vstack((ratio_permute, base_anchor))\n",
    "\n",
    "    scaled_anchor = []\n",
    "\n",
    "    for i in anchor_scales:\n",
    "        temp = base_ratio_anchor * i\n",
    "        scaled_anchor.append(temp)\n",
    "\n",
    "    scaled_anchor = np.vstack(scaled_anchor)\n",
    "    scaled_anchor = np.hstack((np.ones(scaled_anchor.shape), scaled_anchor))\n",
    "generate_anchor()"
   ]
  },
  {
   "cell_type": "code",
   "execution_count": 78,
   "metadata": {},
   "outputs": [],
   "source": [
    "def load_image(base_dir='/myssddisk/Programming/Git/4641-Project/datasets/imagenet/apple-n07739344/img/'):\n",
    "    \n",
    "    all_img = []\n",
    "\n",
    "    print(\"called\")\n",
    "    for file in os.listdir(base_dir):\n",
    "        filedir = base_dir\n",
    "        filename = os.fsdecode(file)\n",
    "        filepath = filedir + filename\n",
    "        \n",
    "        try:\n",
    "            img = load_img(filepath, target_size=(299, 299, 3))\n",
    "            img = img_to_array(img)\n",
    "\n",
    "            all_img.append(img)\n",
    "        except:\n",
    "            print(\"something went wrong\")\n",
    "            #os.remove(filepath)\n",
    "\n",
    "    all_img = np.array(all_img)\n",
    "    return all_img\n"
   ]
  },
  {
   "cell_type": "code",
   "execution_count": 79,
   "metadata": {},
   "outputs": [],
   "source": [
    "def load_annotation(base_dir='/myssddisk/Programming/Git/4641-Project/datasets/imagenet/apple-n07739344/bbox/'):\n",
    "\n",
    "    wnid_annotation = {\n",
    "        \"wnid\": None,\n",
    "        \"count\": 0,\n",
    "        \"annotations\": []\n",
    "    }\n",
    "\n",
    "    for file in os.listdir(base_dir):\n",
    "\n",
    "        subwnid_annotation = {\n",
    "            \"subwnid\": None,\n",
    "            \"img\": None,\n",
    "            \"count\": 0,\n",
    "            \"bboxes\": []\n",
    "        }\n",
    "\n",
    "        filedir = base_dir\n",
    "        filename = os.fsdecode(file)\n",
    "        filepath = filedir + filename\n",
    "\n",
    "        tree = ElementTree.parse(filepath)\n",
    "        root = tree.getroot()\n",
    "\n",
    "        # Setting the count number for wnid_annotation\n",
    "        wnid_annotation[\"count\"] += 1\n",
    "        wnid_annotation[\"wnid\"] = root.find('folder').text\n",
    "\n",
    "        # Setting the subwnid for the current picture\n",
    "        subwnid = root.find('filename').text\n",
    "        dash_index = subwnid.index('_')\n",
    "        subwnid = subwnid[dash_index + 1: ]\n",
    "        subwnid_annotation[\"subwnid\"] = subwnid\n",
    "    \n",
    "        for boxes in root.iter('object'):\n",
    "\n",
    "            for box in boxes.findall(\"bndbox\"):\n",
    "                xmin = int(box.find(\"xmin\").text)\n",
    "                xmax = int(box.find(\"xmax\").text)\n",
    "                ymin = int(box.find(\"ymin\").text)\n",
    "                ymax = int(box.find(\"ymax\").text)\n",
    "\n",
    "                temp_bbox = Bbox(xmin, xmax, ymin, ymax)\n",
    "                subwnid_annotation[\"bboxes\"].append(temp_bbox)\n",
    "                subwnid_annotation[\"count\"] += 1\n",
    "        \n",
    "        wnid_annotation[\"annotations\"].append(subwnid_annotation)\n",
    "    \n",
    "    return wnid_annotation\n",
    "            \n"
   ]
  },
  {
   "cell_type": "code",
   "execution_count": 80,
   "metadata": {
    "tags": []
   },
   "outputs": [],
   "source": [
    "def load_data():\n",
    "    all_annotations = load_annotation()\n",
    "    all_img = load_image()"
   ]
  },
  {
   "cell_type": "code",
   "execution_count": 81,
   "metadata": {
    "tags": []
   },
   "outputs": [
    {
     "output_type": "stream",
     "name": "stdout",
     "text": "called\n"
    }
   ],
   "source": [
    "load_data()"
   ]
  },
  {
   "cell_type": "code",
   "execution_count": null,
   "metadata": {},
   "outputs": [],
   "source": []
  }
 ],
 "metadata": {
  "language_info": {
   "codemirror_mode": {
    "name": "ipython",
    "version": 3
   },
   "file_extension": ".py",
   "mimetype": "text/x-python",
   "name": "python",
   "nbconvert_exporter": "python",
   "pygments_lexer": "ipython3",
   "version": "3.6.9-final"
  },
  "orig_nbformat": 2,
  "kernelspec": {
   "name": "python3",
   "display_name": "Python 3"
  }
 },
 "nbformat": 4,
 "nbformat_minor": 2
}