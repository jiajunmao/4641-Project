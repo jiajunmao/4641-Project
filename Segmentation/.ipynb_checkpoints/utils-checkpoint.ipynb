{
 "cells": [
  {
   "cell_type": "code",
   "execution_count": 85,
   "metadata": {},
   "outputs": [],
   "source": [
    "import numpy as np\n",
    "import matplotlib as plt\n",
    "from itertools import permutations"
   ]
  },
  {
   "cell_type": "code",
   "execution_count": 204,
   "metadata": {
    "tags": []
   },
   "outputs": [
    {
     "output_type": "stream",
     "name": "stdout",
     "text": "[[  1.   1.   8.  16.]\n [  1.   1.   8.  32.]\n [  1.   1.  16.   8.]\n [  1.   1.  16.  32.]\n [  1.   1.  32.   8.]\n [  1.   1.  32.  16.]\n [  1.   1.  16.  16.]\n [  1.   1.  16.  32.]\n [  1.   1.  16.  64.]\n [  1.   1.  32.  16.]\n [  1.   1.  32.  64.]\n [  1.   1.  64.  16.]\n [  1.   1.  64.  32.]\n [  1.   1.  32.  32.]\n [  1.   1.  32.  64.]\n [  1.   1.  32. 128.]\n [  1.   1.  64.  32.]\n [  1.   1.  64. 128.]\n [  1.   1. 128.  32.]\n [  1.   1. 128.  64.]\n [  1.   1.  64.  64.]\n [  1.   1.  48.  96.]\n [  1.   1.  48. 192.]\n [  1.   1.  96.  48.]\n [  1.   1.  96. 192.]\n [  1.   1. 192.  48.]\n [  1.   1. 192.  96.]\n [  1.   1.  96.  96.]]\n"
    }
   ],
   "source": [
    "def generate_anchor(base_width=16, base_height=16, anchor_ratios=[0.5, 1, 2], anchor_scales=[1, 2, 4, 6]):\n",
    "    base_anchor = np.array([base_width, base_height])\n",
    "    \n",
    "    ratio_permute = np.array(list(permutations(anchor_ratios, 2))) * base_width\n",
    "    base_ratio_anchor = np.vstack((ratio_permute, base_anchor))\n",
    "\n",
    "    scaled_anchor = []\n",
    "\n",
    "    for i in anchor_scales:\n",
    "        temp = base_ratio_anchor * i\n",
    "        scaled_anchor.append(temp)\n",
    "\n",
    "    scaled_anchor = np.vstack(scaled_anchor)\n",
    "    scaled_anchor = np.hstack((np.ones(scaled_anchor.shape), scaled_anchor))\n",
    "generate_anchor()"
   ]
  },
  {
   "cell_type": "code",
   "execution_count": null,
   "metadata": {},
   "outputs": [],
   "source": []
  },
  {
   "cell_type": "code",
   "execution_count": null,
   "metadata": {},
   "outputs": [],
   "source": []
  },
  {
   "cell_type": "code",
   "execution_count": null,
   "metadata": {},
   "outputs": [],
   "source": []
  },
  {
   "cell_type": "code",
   "execution_count": null,
   "metadata": {},
   "outputs": [],
   "source": []
  }
 ],
 "metadata": {
  "language_info": {
   "codemirror_mode": {
    "name": "ipython",
    "version": 3
   },
   "file_extension": ".py",
   "mimetype": "text/x-python",
   "name": "python",
   "nbconvert_exporter": "python",
   "pygments_lexer": "ipython3",
   "version": "3.6.9-final"
  },
  "orig_nbformat": 2,
  "kernelspec": {
   "name": "python3",
   "display_name": "Python 3"
  }
 },
 "nbformat": 4,
 "nbformat_minor": 2
}