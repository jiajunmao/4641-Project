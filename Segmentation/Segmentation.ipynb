{
 "cells": [
  {
   "cell_type": "code",
   "execution_count": 28,
   "metadata": {
    "tags": []
   },
   "outputs": [],
   "source": [
    "from keras import backend as K\n",
    "import tensorflow as tf\n",
    "\n",
    "from keras.optimizers import Adam, SGD, RMSprop\n",
    "from keras.layers import Flatten, Dense, Input, Conv2D, MaxPooling2D, Dropout\n",
    "from keras.layers import GlobalAveragePooling2D, GlobalMaxPooling2D\n",
    "\n",
    "from keras.applications import InceptionResNetV2\n",
    "from keras.preprocessing.image import load_img, img_to_array\n",
    "\n",
    "import numpy as np\n",
    "import matplotlib.pyplot as plt\n",
    "import cv2\n",
    "\n",
    "import tqdm as tqdm\n",
    "\n",
    "import os\n"
   ]
  },
  {
   "cell_type": "code",
   "execution_count": 29,
   "metadata": {
    "tags": []
   },
   "outputs": [],
   "source": [
    "model = InceptionResNetV2(include_top=False, input_shape=(299, 299, 3))"
   ]
  },
  {
   "cell_type": "code",
   "execution_count": 56,
   "metadata": {},
   "outputs": [],
   "source": [
    "def import_data():\n",
    "    \n",
    "    all_img = []\n",
    "\n",
    "    for file in os.listdir('./datasets/fruits-360/test-multiple_fruits'):\n",
    "        filedir = './datasets/fruits-360/test-multiple_fruits/'\n",
    "        filename = os.fsdecode(file)\n",
    "        filepath = filedir + filename\n",
    "        \n",
    "        img = load_img(filepath, target_size=(299, 299, 3))\n",
    "        img = img_to_array(img)\n",
    "        all_img.append(img)\n",
    "\n",
    "    all_img = np.array(all_img)\n",
    "    return all_img\n"
   ]
  },
  {
   "cell_type": "code",
   "execution_count": null,
   "metadata": {},
   "outputs": [],
   "source": [
    "def regional_proposal_network(feature_map, base_img):\n",
    "    batch_size, img_width, img_height, img_channel = base_img.shape\n",
    "    _, fm_width, fm_height, fm_channel = feature_map.shape\n",
    "\n",
    "    \n",
    "\n",
    "\n",
    "    "
   ]
  },
  {
   "cell_type": "code",
   "execution_count": 58,
   "metadata": {
    "tags": []
   },
   "outputs": [
    {
     "output_type": "stream",
     "name": "stdout",
     "text": "(103, 299, 299, 3)\n(103, 299, 299, 3)\n"
    }
   ],
   "source": [
    "all_img = import_data()\n",
    "print(str(all_img.shape))\n"
   ]
  },
  {
   "cell_type": "code",
   "execution_count": 61,
   "metadata": {},
   "outputs": [],
   "source": [
    "feature_map = model.predict(all_img)"
   ]
  },
  {
   "cell_type": "code",
   "execution_count": 62,
   "metadata": {
    "tags": []
   },
   "outputs": [
    {
     "output_type": "stream",
     "name": "stdout",
     "text": "(103, 8, 8, 1536)\n"
    }
   ],
   "source": [
    "print(feature_map.shape)"
   ]
  },
  {
   "cell_type": "code",
   "execution_count": null,
   "metadata": {},
   "outputs": [],
   "source": []
  }
 ],
 "metadata": {
  "kernelspec": {
   "display_name": "Python 3",
   "language": "python",
   "name": "python3"
  },
  "language_info": {
   "codemirror_mode": {
    "name": "ipython",
    "version": 3
   },
   "file_extension": ".py",
   "mimetype": "text/x-python",
   "name": "python",
   "nbconvert_exporter": "python",
   "pygments_lexer": "ipython3",
   "version": "3.6.9-final"
  }
 },
 "nbformat": 4,
 "nbformat_minor": 4
}